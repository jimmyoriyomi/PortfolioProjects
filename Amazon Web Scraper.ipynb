{
 "cells": [
  {
   "cell_type": "code",
   "execution_count": 1,
   "id": "776568ea-68ae-4305-b545-0f8e00a6b539",
   "metadata": {},
   "outputs": [],
   "source": [
    "# import libraries \n",
    "\n",
    "from bs4 import BeautifulSoup\n",
    "import requests\n",
    "import time\n",
    "import datetime\n",
    "\n",
    "import smtplib"
   ]
  },
  {
   "cell_type": "code",
   "execution_count": 2,
   "id": "34192caf-f3c7-48c8-b40f-535ecaee9deb",
   "metadata": {},
   "outputs": [],
   "source": [
    "# Connect to Website and pull in data\n",
    "\n",
    "URL = 'https://www.amazon.com/dp/B07Y3T1DSZ/ref=sspa_dk_detail_0?psc=1&pd_rd_i=B07Y3T1DSZ&pd_rd_w=0eWj8&content-id=amzn1.sym.7446a9d1-25fe-4460-b135-a60336bad2c9&pf_rd_p=7446a9d1-25fe-4460-b135-a60336bad2c9&pf_rd_r=2PSNQ8N8JCDK6GEZFXF3&pd_rd_wg=DJgW0&pd_rd_r=b7395b4e-3f0f-474a-9304-a9a7bdc3a323&s=apparel&sp_csd=d2lkZ2V0TmFtZT1zcF9kZXRhaWw'\n",
    "\n",
    "headers = {\"User-Agent\": \"Mozilla/5.0 (Windows NT 10.0; Win64; x64) AppleWebKit/537.36 (KHTML, like Gecko) Chrome/78.0.3904.108 Safari/537.36\", \"Accept-Encoding\":\"gzip, deflate\", \"Accept\":\"text/html,application/xhtml+xml,application/xml;q=0.9,*/*;q=0.8\", \"DNT\":\"1\",\"Connection\":\"close\", \"Upgrade-Insecure-Requests\":\"1\"}\n",
    "\n",
    "page = requests.get(URL, headers=headers)\n",
    "\n"
   ]
  },
  {
   "cell_type": "code",
   "execution_count": 3,
   "id": "225f5a4c-1419-44c1-89b0-83c4874ebb95",
   "metadata": {},
   "outputs": [],
   "source": [
    "# Pulling content from page\n",
    "soup1 = BeautifulSoup(page.content, \"html.parser\")\n",
    "\n",
    "# Cleaning initial pull - better formating\n",
    "soup2 = BeautifulSoup(soup1.prettify(), \"html.parser\")\n"
   ]
  },
  {
   "cell_type": "code",
   "execution_count": 4,
   "id": "fa06ed4d-25c2-42f0-8d8c-00e8ebdb02ba",
   "metadata": {},
   "outputs": [
    {
     "name": "stdout",
     "output_type": "stream",
     "text": [
      "Mens Science Like Magic But Real Tshirt Funny Nerdy Teacher Tee\n",
      "13.99\n"
     ]
    }
   ],
   "source": [
    "#Extract product title text\n",
    "title = soup2.find(id='productTitle').get_text(strip=True)\n",
    "\n",
    "# Locate the price element\n",
    "price_element = soup2.find('span', class_='a-price').find('span', attrs={\"aria-hidden\": \"true\"})\n",
    "price = price_element.get_text(strip=True)  # Strips unnecessary spaces\n",
    "price = price[1:]\n",
    "\n",
    "\n",
    "print(title)\n",
    "print(price)"
   ]
  },
  {
   "cell_type": "code",
   "execution_count": 8,
   "id": "48696502-927c-44f6-8bd1-bae6a31c4bda",
   "metadata": {},
   "outputs": [
    {
     "name": "stdout",
     "output_type": "stream",
     "text": [
      "2025-01-27\n"
     ]
    }
   ],
   "source": [
    "# Timestamp to know when data was collected\n",
    "import datetime\n",
    "\n",
    "today = datetime.date.today()\n",
    "print(today)"
   ]
  },
  {
   "cell_type": "code",
   "execution_count": 10,
   "id": "16b07eca-98e0-47aa-9426-defc4fb08ac9",
   "metadata": {},
   "outputs": [],
   "source": [
    "import csv\n",
    "\n",
    "header = ['Title', 'Price', 'Date']\n",
    "data = [title, price, today]\n",
    "\n",
    "type(data)\n",
    "\n",
    "# Create CSV\n",
    "with open('AmazonWebScraperDataset.csv', 'w', newline='', encoding='UTF8') as f:\n",
    "    writer = csv.writer(f)\n",
    "    # Insert header and data\n",
    "    writer.writerow(header)\n",
    "    writer.writerow(data)"
   ]
  },
  {
   "cell_type": "code",
   "execution_count": 12,
   "id": "be1587dd-ca80-4719-b0eb-63e28986060a",
   "metadata": {},
   "outputs": [
    {
     "name": "stdout",
     "output_type": "stream",
     "text": [
      "                                               Title  Price        Date\n",
      "0  Mens Science Like Magic But Real Tshirt Funny ...  13.99  2025-01-27\n"
     ]
    }
   ],
   "source": [
    "import pandas as pd\n",
    "\n",
    "df = pd.read_csv('/Users/jimmyoriyomi/AmazonWebScraperDataset.csv')\n",
    "print(df)"
   ]
  },
  {
   "cell_type": "code",
   "execution_count": null,
   "id": "cf6e596e-ee1b-49ac-8b59-6f278fb28772",
   "metadata": {},
   "outputs": [],
   "source": [
    "# Append data to csv\n",
    "with open('AmazonWebScraperDataset.csv', 'w', newline='', encoding='UTF8') as f:\n",
    "    writer = csv.writer(f)\n",
    "    writer.writerow(data)"
   ]
  },
  {
   "cell_type": "code",
   "execution_count": 13,
   "id": "aaff2850-3898-4448-b040-ceebcda8bb2d",
   "metadata": {},
   "outputs": [],
   "source": [
    "#Combine all of the above code into one function 'check_price'\n",
    "\n",
    "\n",
    "def check_price():\n",
    "    URL = 'https://www.amazon.com/dp/B07Y3T1DSZ/ref=sspa_dk_detail_0?psc=1&pd_rd_i=B07Y3T1DSZ&pd_rd_w=0eWj8&content-id=amzn1.sym.7446a9d1-25fe-4460-b135-a60336bad2c9&pf_rd_p=7446a9d1-25fe-4460-b135-a60336bad2c9&pf_rd_r=2PSNQ8N8JCDK6GEZFXF3&pd_rd_wg=DJgW0&pd_rd_r=b7395b4e-3f0f-474a-9304-a9a7bdc3a323&s=apparel&sp_csd=d2lkZ2V0TmFtZT1zcF9kZXRhaWw'\n",
    "\n",
    "    headers = {\"User-Agent\": \"Mozilla/5.0 (Windows NT 10.0; Win64; x64) AppleWebKit/537.36 (KHTML, like Gecko) Chrome/78.0.3904.108 Safari/537.36\", \"Accept-Encoding\":\"gzip, deflate\", \"Accept\":\"text/html,application/xhtml+xml,application/xml;q=0.9,*/*;q=0.8\", \"DNT\":\"1\",\"Connection\":\"close\", \"Upgrade-Insecure-Requests\":\"1\"}\n",
    "\n",
    "    page = requests.get(URL, headers=headers)\n",
    "\n",
    "    soup1 = BeautifulSoup(page.content, \"html.parser\")\n",
    "\n",
    "    soup2 = BeautifulSoup(soup1.prettify(), \"html.parser\")\n",
    "\n",
    "    title = soup2.find(id='productTitle').get_text(strip=True)\n",
    "\n",
    "    price_element = soup2.find('span', class_='a-price').find('span', attrs={\"aria-hidden\": \"true\"})\n",
    "    price = price_element.get_text(strip=True)  # Strips unnecessary spaces\n",
    "    price = price[1:]\n",
    "\n",
    "    import datetime\n",
    "\n",
    "    today = datetime.date.today()\n",
    "    \n",
    "    import csv \n",
    "\n",
    "    header = ['Title', 'Price', 'Date']\n",
    "    data = [title, price, today]\n",
    "\n",
    "    with open('AmazonWebScraperDataset.csv', 'a+', newline='', encoding='UTF8') as f:\n",
    "        writer = csv.writer(f)\n",
    "        writer.writerow(data)\n",
    "\n",
    "    if (prince < 10)\n",
    "       send_mail() \n",
    " "
   ]
  },
  {
   "cell_type": "code",
   "execution_count": 14,
   "id": "c7506893-ee91-4749-af66-2391859c56b0",
   "metadata": {},
   "outputs": [
    {
     "ename": "KeyboardInterrupt",
     "evalue": "",
     "output_type": "error",
     "traceback": [
      "\u001b[0;31m---------------------------------------------------------------------------\u001b[0m",
      "\u001b[0;31mKeyboardInterrupt\u001b[0m                         Traceback (most recent call last)",
      "Cell \u001b[0;32mIn[14], line 3\u001b[0m\n\u001b[1;32m      1\u001b[0m \u001b[38;5;28;01mwhile\u001b[39;00m(\u001b[38;5;28;01mTrue\u001b[39;00m):\n\u001b[1;32m      2\u001b[0m     check_price()\n\u001b[0;32m----> 3\u001b[0m     \u001b[43mtime\u001b[49m\u001b[38;5;241;43m.\u001b[39;49m\u001b[43msleep\u001b[49m\u001b[43m(\u001b[49m\u001b[38;5;241;43m20\u001b[39;49m\u001b[43m)\u001b[49m\n",
      "\u001b[0;31mKeyboardInterrupt\u001b[0m: "
     ]
    }
   ],
   "source": [
    "while(True):\n",
    "    check_price()\n",
    "    time.sleep(20)"
   ]
  },
  {
   "cell_type": "code",
   "execution_count": 15,
   "id": "2690b259-49b5-4059-8ecd-b7dc5e700b4f",
   "metadata": {},
   "outputs": [
    {
     "name": "stdout",
     "output_type": "stream",
     "text": [
      "                                               Title  Price        Date\n",
      "0  Mens Science Like Magic But Real Tshirt Funny ...  13.99  2025-01-27\n",
      "1  Mens Science Like Magic But Real Tshirt Funny ...  13.99  2025-01-27\n",
      "2  Mens Science Like Magic But Real Tshirt Funny ...  13.99  2025-01-27\n",
      "3  Mens Science Like Magic But Real Tshirt Funny ...  13.99  2025-01-27\n"
     ]
    }
   ],
   "source": [
    "df = pd.read_csv('/Users/jimmyoriyomi/AmazonWebScraperDataset.csv')\n",
    "print(df)"
   ]
  },
  {
   "cell_type": "code",
   "execution_count": null,
   "id": "1bd2a1e4-58b2-4dfc-8120-407a9107fb49",
   "metadata": {},
   "outputs": [],
   "source": [
    "# Send an email when a price hits below a certain level \n",
    "\n",
    "def send_mail():\n",
    "    server = smtplib.SMTP_SSL('smtp.gmail.com',465)\n",
    "    server.ehlo()\n",
    "    #server.starttls()\n",
    "    server.ehlo()\n",
    "    server.login('jimmy.hola927@gmail.com','xxxxxxxxxxxxxx')\n",
    "    \n",
    "    subject = \"The Shirt you want is below $10! Now is your chance to buy!\"\n",
    "    body = \"Jimmy, The shirt you've been anticipating is available at an affordable price. Get it now! Link here: https://www.amazon.com/dp/B07Y3T1DSZ/ref=sspa_dk_detail_0?psc=1&pd_rd_i=B07Y3T1DSZ&pd_rd_w=0eWj8&content-id=amzn1.sym.7446a9d1-25fe-4460-b135-a60336bad2c9&pf_rd_p=7446a9d1-25fe-4460-b135-a60336bad2c9&pf_rd_r=2PSNQ8N8JCDK6GEZFXF3&pd_rd_wg=DJgW0&pd_rd_r=b7395b4e-3f0f-474a-9304-a9a7bdc3a323&s=apparel&sp_csd=d2lkZ2V0TmFtZT1zcF9kZXRhaWw\"\n",
    "   \n",
    "    msg = f\"Subject: {subject}\\n\\n{body}\"\n",
    "    \n",
    "    server.sendmail(\n",
    "        'jimmy.hola927@gmail.com',\n",
    "        msg\n",
    "        \n",
    "     \n",
    "    )"
   ]
  }
 ],
 "metadata": {
  "kernelspec": {
   "display_name": "Python (myenv)",
   "language": "python",
   "name": "myenv"
  },
  "language_info": {
   "codemirror_mode": {
    "name": "ipython",
    "version": 3
   },
   "file_extension": ".py",
   "mimetype": "text/x-python",
   "name": "python",
   "nbconvert_exporter": "python",
   "pygments_lexer": "ipython3",
   "version": "3.13.1"
  }
 },
 "nbformat": 4,
 "nbformat_minor": 5
}
